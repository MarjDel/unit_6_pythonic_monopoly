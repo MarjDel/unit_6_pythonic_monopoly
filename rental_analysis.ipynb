{
 "cells": [
  {
   "cell_type": "markdown",
   "source": [
    "# San Francisco Housing Cost Analysis\n",
    "\n",
    "In this assignment, you will perform fundamental analysis for the San Francisco housing market to allow potential real estate investors to choose rental investment properties."
   ],
   "metadata": {}
  },
  {
   "cell_type": "code",
   "execution_count": null,
   "source": [
    "# imports\r\n",
    "import panel as pn\r\n",
    "pn.extension('plotly')\r\n",
    "import plotly.express as px\r\n",
    "import pandas as pd\r\n",
    "import hvplot.pandas\r\n",
    "import matplotlib.pyplot as plt\r\n",
    "import numpy as np\r\n",
    "import os\r\n",
    "from pathlib import Path\r\n",
    "from dotenv import load_dotenv\r\n",
    "import warnings\r\n",
    "warnings.filterwarnings('ignore')"
   ],
   "outputs": [],
   "metadata": {}
  },
  {
   "cell_type": "code",
   "execution_count": null,
   "source": [
    "# Read the Mapbox API key\r\n",
    "load_dotenv()\r\n",
    "map_box_api = os.getenv(\"mapbox\")"
   ],
   "outputs": [],
   "metadata": {}
  },
  {
   "cell_type": "markdown",
   "source": [
    "## Load Data"
   ],
   "metadata": {}
  },
  {
   "cell_type": "code",
   "execution_count": null,
   "source": [
    "# Read the census data into a Pandas DataFrame\r\n",
    "file_path = Path(\"../../week6_pyviz/unit_6_pythonic_monopoly/sfo_neighborhoods_census_data.csv\")\r\n",
    "#week6_pyviz/unit_6_pythonic_monopoly/sfo_neighborhoods_census_data.csv\r\n",
    "sfo_data = pd.read_csv(file_path, index_col=\"year\")\r\n",
    "sfo_data.head()"
   ],
   "outputs": [],
   "metadata": {}
  },
  {
   "cell_type": "markdown",
   "source": [
    "- - - "
   ],
   "metadata": {}
  },
  {
   "cell_type": "markdown",
   "source": [
    "## Housing Units Per Year\n",
    "\n",
    "In this section, you will calculate the number of housing units per year and visualize the results as a bar chart using the Pandas plot function.\n",
    "\n",
    "**Hint:** Use the Pandas `groupby` function.\n",
    "\n",
    "**Optional challenge:** Use the min, max, and std to scale the y limits of the chart.\n",
    "\n"
   ],
   "metadata": {}
  },
  {
   "cell_type": "code",
   "execution_count": null,
   "source": [
    "# Calculate the mean number of housing units per year (hint: use groupby) \r\n",
    "sfo_data_mean = sfo_data.groupby(\"year\")['housing_units'].mean()\r\n",
    "sfo_data_mean"
   ],
   "outputs": [],
   "metadata": {}
  },
  {
   "cell_type": "code",
   "execution_count": null,
   "source": [
    "# Save the dataframe as a csv file\r\n",
    "import pandas as pd\r\n",
    "sfo_data_mean_df = sfo_data.groupby(\"year\")['housing_units'].mean()\r\n",
    "sfo_data_mean_df = pd.DataFrame(sfo_data_mean_df, columns= [\"housing_units\"])\r\n",
    "sfo_data_mean_df.to_csv(\"../../week6_pyviz/unit_6_pythonic_monopoly/sfo_data_mean_df.csv\")\r\n",
    "sfo_data_mean_df"
   ],
   "outputs": [],
   "metadata": {}
  },
  {
   "cell_type": "code",
   "execution_count": null,
   "source": [
    "# Use the Pandas plot function to plot the average housing units per year.\r\n",
    "# Note: You will need to manually adjust the y limit of the chart using the min and max values from above.\r\n",
    "fig_housing_units = plt.figure() \r\n",
    "plot_housing_units = sfo_data_mean.plot.bar().set_title(\"Housing Units in San Francisco from 2010 to 2016\")\r\n",
    "plt.show()"
   ],
   "outputs": [],
   "metadata": {}
  },
  {
   "cell_type": "code",
   "execution_count": null,
   "source": [
    "# Optional Challenge: Use the min, max, and std to scale the y limits of the chart\r\n",
    "max1 = sfo_data_mean.max()\r\n",
    "min1 = sfo_data_mean.min()\r\n",
    "std1 = sfo_data_mean.std()\r\n",
    "sfo_data_mean.plot.bar(ylim=(min1-std1, max1+std1), title=\"Housing Units in San Francisco from 2010 to 2016\")\r\n",
    "plt.show()"
   ],
   "outputs": [],
   "metadata": {}
  },
  {
   "cell_type": "markdown",
   "source": [
    "- - - "
   ],
   "metadata": {}
  },
  {
   "cell_type": "markdown",
   "source": [
    "## Average Housing Costs in San Francisco Per Year\n",
    "\n",
    "In this section, you will calculate the average monthly rent and the average price per square foot for each year. An investor may wish to better understand the sales price of the rental property over time. For example, a customer will want to know if they should expect an increase or decrease in the property value over time so they can determine how long to hold the rental property.  Plot the results as two line charts.\n",
    "\n",
    "**Optional challenge:** Plot each line chart in a different color."
   ],
   "metadata": {}
  },
  {
   "cell_type": "code",
   "execution_count": null,
   "source": [
    "# Calculate the average sale price per square foot and average gross rent\r\n",
    "#sale_price_sqr_foot_mean = sale_price_sqr_foot.groupby(\"year\")['sale_price_sqr_foot'].mean()\r\n",
    "#gross_rent_mean = gross_rent.groupby(\"year\")['gross_rent'].mean()\r\n",
    "sfo_data_mean = sfo_data.groupby('year')['sale_price_sqr_foot', 'gross_rent'].mean()\r\n",
    "sfo_data_mean = sfo_data[['sale_price_sqr_foot', 'gross_rent']].groupby('year').mean()\r\n",
    "sfo_data_mean"
   ],
   "outputs": [],
   "metadata": {}
  },
  {
   "cell_type": "code",
   "execution_count": null,
   "source": [
    "# Create two line charts, one to plot the average sale price per square foot and another for average montly rent\r\n",
    "\r\n",
    "# Line chart for average sale price per square foot\r\n",
    "fig_housing_units = plt.figure()\r\n",
    "sfo_data_mean = sfo_data.groupby('year')['sale_price_sqr_foot'].mean().plot(color= \"green\", title=\"Average Price per SqFt by Year\")\r\n",
    "\r\n",
    "plt.show()\r\n",
    "\r\n",
    "\r\n",
    "# Line chart for average montly rent\r\n",
    "fig_housing_units = plt.figure()\r\n",
    "sfo_data_mean = sfo_data[['gross_rent']].groupby('year').mean().plot(color = \"red\", title=\"Average Rent per Year\")\r\n",
    "\r\n",
    "plt.show()\r\n"
   ],
   "outputs": [],
   "metadata": {}
  },
  {
   "cell_type": "markdown",
   "source": [
    "- - - "
   ],
   "metadata": {}
  },
  {
   "cell_type": "markdown",
   "source": [
    "## Average Prices by Neighborhood\n",
    "\n",
    "In this section, you will use hvplot to create two interactive visulizations of average prices with a dropdown selector for the neighborhood. The first visualization will be a line plot showing the trend of average price per square foot over time for each neighborhood.  The second will be a line plot showing the trend of average montly rent over time for each neighborhood.\n",
    "\n",
    "**Hint:** It will be easier to create a new DataFrame from grouping the data and calculating the mean prices for each year and neighborhood"
   ],
   "metadata": {}
  },
  {
   "cell_type": "code",
   "execution_count": null,
   "source": [
    "# Group by year and neighborhood and then create a new dataframe of the mean values\r\n",
    "average_price_by_neighborhood = sfo_data.groupby([\"year\", \"neighborhood\"]).mean()\r\n",
    "average_price_by_neighborhood.reset_index(inplace=True)\r\n",
    "average_price_by_neighborhood.head()"
   ],
   "outputs": [],
   "metadata": {}
  },
  {
   "cell_type": "code",
   "execution_count": null,
   "source": [
    "# Use hvplot to create an interactive line chart of the average price per sq ft.\r\n",
    "# The plot should have a dropdown selector for the neighborhood\r\n",
    "average_price_by_neighborhood.hvplot.line (\"year\", \"sale_price_sqr_foot\", groupby=\"neighborhood\")\r\n"
   ],
   "outputs": [],
   "metadata": {}
  },
  {
   "cell_type": "code",
   "execution_count": null,
   "source": [
    "# Use hvplot to create an interactive line chart of the average price per sq ft.\r\n",
    "# The plot should have a dropdown selector for the neighborhood\r\n",
    "average_price_by_neighborhood.hvplot.line (\"year\", \"gross_rent\", groupby = \"neighborhood\")"
   ],
   "outputs": [],
   "metadata": {}
  },
  {
   "cell_type": "markdown",
   "source": [
    "## The Top 10 Most Expensive Neighborhoods\n",
    "\n",
    "In this section, you will need to calculate the mean sale price per square foot for each neighborhood and then sort the values to obtain the top 10 most expensive neighborhoods on average. Plot the results as a bar chart."
   ],
   "metadata": {}
  },
  {
   "cell_type": "code",
   "execution_count": null,
   "source": [
    "# Getting the data from the top 10 expensive neighborhoods to own\r\n",
    "neighborhood_prices = sfo_data.groupby(['neighborhood']).mean()\r\n",
    "top_ten_expensive = neighborhood_prices.sort_values('sale_price_sqr_foot', ascending = False).head(10).reset_index()\r\n",
    "top_ten_expensive"
   ],
   "outputs": [],
   "metadata": {}
  },
  {
   "cell_type": "code",
   "execution_count": null,
   "source": [
    "# Plotting the data from the top 10 expensive neighborhoods\r\n",
    "top_ten_expensive.plot.bar(x=\"neighborhood\", y=\"sale_price_sqr_foot\", title=\"Top 10 Expensive Neighborhoods\")"
   ],
   "outputs": [],
   "metadata": {}
  },
  {
   "cell_type": "markdown",
   "source": [
    "- - - "
   ],
   "metadata": {}
  },
  {
   "cell_type": "markdown",
   "source": [
    "## Comparing cost to purchase versus rental income\n",
    "\n",
    "In this section, you will use `hvplot` to create an interactive visualization with a dropdown selector for the neighborhood. This visualization will feature a side-by-side comparison of average price per square foot versus average montly rent by year.  \n",
    "\n",
    "**Hint:** Use the `hvplot` parameter, `groupby`, to create a dropdown selector for the neighborhood."
   ],
   "metadata": {}
  },
  {
   "cell_type": "code",
   "execution_count": null,
   "source": [
    "# Fetch the previously generated DataFrame that was grouped by year and neighborhood\r\n",
    "sfo_data_mean = sfo_data.groupby('year')['sale_price_sqr_foot', 'gross_rent']\r\n",
    "sfo_data_mean = sfo_data[['sale_price_sqr_foot', 'gross_rent']].groupby('year')"
   ],
   "outputs": [],
   "metadata": {}
  },
  {
   "cell_type": "code",
   "execution_count": null,
   "source": [
    "# Plotting the data from the top 10 expensive neighborhoods\r\n",
    "#notFinal\r\n",
    "top_ten_expensive.plot.bar(x=\"neighborhood\", y=\"sale_price_sqr_foot\", title=\"Top 10 Expensive Neighborhoods\")"
   ],
   "outputs": [],
   "metadata": {}
  },
  {
   "cell_type": "markdown",
   "source": [
    "- - - "
   ],
   "metadata": {}
  },
  {
   "cell_type": "markdown",
   "source": [
    "## Neighborhood Map\n",
    "\n",
    "In this section, you will read in neighborhoods location data and build an interactive map with the average house value per neighborhood. Use a `scatter_mapbox` from Plotly express to create the visualization. Remember, you will need your Mapbox API key for this."
   ],
   "metadata": {}
  },
  {
   "cell_type": "markdown",
   "source": [
    "### Load Location Data"
   ],
   "metadata": {}
  },
  {
   "cell_type": "code",
   "execution_count": null,
   "source": [
    "# Load neighborhoods coordinates data\r\n",
    "nh_coordinates_path = Path(\"../../week6_pyviz/unit_6_pythonic_monopoly/neighborhoods_coordinates.csv\")\r\n",
    "df_neighborhood_locations = pd.read_csv(nh_coordinates_path)\r\n",
    "df_neighborhood_locations.head()"
   ],
   "outputs": [],
   "metadata": {}
  },
  {
   "cell_type": "markdown",
   "source": [
    "### Data Preparation\n",
    "\n",
    "You will need to join the location data with the mean values per neighborhood.\n",
    "\n",
    "1. Calculate the mean values for each neighborhood.\n",
    "\n",
    "2. Join the average values with the neighborhood locations."
   ],
   "metadata": {}
  },
  {
   "cell_type": "code",
   "execution_count": null,
   "source": [
    "# Calculate the mean values for each neighborhood\r\n",
    "neighborhood_prices = neighborhood_prices.reset_index()\r\n",
    "neighborhood_prices = neighborhood_prices.rename(columns = {\"neighborhood\": \"Neighborhood\"}) \r\n",
    "neighborhood_jt_df = pd.merge (neighborhood_prices,df_neighborhood_locations, on = \"Neighborhood\")\r\n",
    "neighborhood_jt_df"
   ],
   "outputs": [],
   "metadata": {}
  },
  {
   "cell_type": "code",
   "execution_count": null,
   "source": [
    "# Join the average values with the neighborhood locations"
   ],
   "outputs": [],
   "metadata": {}
  },
  {
   "cell_type": "markdown",
   "source": [
    "### Mapbox Visualization\n",
    "\n",
    "Plot the average values per neighborhood using a Plotly express `scatter_mapbox` visualization."
   ],
   "metadata": {}
  },
  {
   "cell_type": "code",
   "execution_count": null,
   "source": [
    "# Set the mapbox access token\r\n",
    "map_box_api = os.getenv(\"mapbox\")\r\n",
    "px.set_mapbox_access_token(map_box_api)\r\n",
    "print(type(map_box_api))\r\n",
    "\r\n",
    "# Create a scatter mapbox to analyze neighborhood info\r\n",
    "scatter = px.scatter_mapbox(neighborhood_jt_df, lat =\"Lat\", lon =\"Lon\", color = \"gross_rent\", size = \"sale_price_sqr_foot\",zoom=11, size_max = 16)\r\n",
    "scatter.show()"
   ],
   "outputs": [],
   "metadata": {}
  },
  {
   "cell_type": "markdown",
   "source": [
    "- - -"
   ],
   "metadata": {}
  },
  {
   "cell_type": "markdown",
   "source": [
    "## Cost Analysis - Optional Challenge\n",
    "\n",
    "In this section, you will use Plotly express to create visualizations that investors can use to interactively filter and explore various factors related to the house value of the San Francisco's neighborhoods. \n",
    "\n",
    "### Create a DataFrame showing the most expensive neighborhoods in San Francisco by year"
   ],
   "metadata": {}
  },
  {
   "cell_type": "code",
   "execution_count": null,
   "source": [
    "# Fetch the data from all expensive neighborhoods per year.\r\n",
    "\r\n",
    "#top_ten_expensive = neighborhood_prices.sort_values('sale_price_sqr_foot', ascending = False, ).head(10).reset_index()\r\n",
    "#top_ten_expensive groupby, \"year\"\r\n",
    "\r\n",
    "#sfo_data_exp_year = sfo_data.groupby('year')['sale_price_sqr_foot', 'gross_rent', ascending = False]\r\n",
    "#sfo_data_exp_year = sfo_data[['sale_price_sqr_foot', 'gross_rent']].groupby('year')\r\n",
    "#sfo_data_exp_year\r\n",
    "#sfo_data_mean = sfo_data_mean\r\n",
    "#sfo_data_mean\r\n",
    "\r\n",
    "#neighborhood_jt_per_year_df = pd.merge (top_ten_expensive, sfo_data_mean, on = \"year\")\r\n",
    "#neighborhood_jt_per_year_df\r\n"
   ],
   "outputs": [],
   "metadata": {}
  },
  {
   "cell_type": "markdown",
   "source": [
    "### Create a parallel coordinates plot and parallel categories plot of most expensive neighborhoods in San Francisco per year\n"
   ],
   "metadata": {}
  },
  {
   "cell_type": "code",
   "execution_count": null,
   "source": [
    "# Parallel Categories Plot\r\n",
    "# YOUR CODE HERE!"
   ],
   "outputs": [],
   "metadata": {}
  },
  {
   "cell_type": "code",
   "execution_count": null,
   "source": [
    "# Parallel Coordinates Plot\r\n",
    "# YOUR CODE HERE!"
   ],
   "outputs": [],
   "metadata": {}
  },
  {
   "cell_type": "markdown",
   "source": [
    "### Create a sunburst chart to conduct a costs analysis of most expensive neighborhoods in San Francisco per year"
   ],
   "metadata": {}
  },
  {
   "cell_type": "code",
   "execution_count": null,
   "source": [
    "# Sunburst Plot\r\n",
    "## df=px.data.gapminder().query(\"year ==\")\r\n",
    "    #fig =px.sunburst(df, path=[\"\",\"\"]), values=\"pop\",\r\n",
    "               # color =\"green\", hover_data=[\"iso_alpha\"])\r\n",
    "    #fig.show()           "
   ],
   "outputs": [],
   "metadata": {}
  },
  {
   "cell_type": "code",
   "execution_count": null,
   "source": [],
   "outputs": [],
   "metadata": {}
  }
 ],
 "metadata": {
  "file_extension": ".py",
  "kernelspec": {
   "name": "python3",
   "display_name": "Python 3.8.8 64-bit ('base': conda)"
  },
  "language_info": {
   "codemirror_mode": {
    "name": "ipython",
    "version": 3
   },
   "file_extension": ".py",
   "mimetype": "text/x-python",
   "name": "python",
   "nbconvert_exporter": "python",
   "pygments_lexer": "ipython3",
   "version": "3.8.8"
  },
  "mimetype": "text/x-python",
  "name": "python",
  "npconvert_exporter": "python",
  "pygments_lexer": "ipython3",
  "version": 3,
  "interpreter": {
   "hash": "67e013bfd48f15f8a996624d3c20cb2a72477efcfdad0ec5eee23742e6997aaa"
  }
 },
 "nbformat": 4,
 "nbformat_minor": 4
}