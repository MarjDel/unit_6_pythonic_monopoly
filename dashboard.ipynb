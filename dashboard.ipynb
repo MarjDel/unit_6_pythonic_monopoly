{
 "cells": [
  {
   "cell_type": "markdown",
   "source": [
    "# San Francisco Rental Prices Dashboard\r\n",
    "\r\n",
    "In this notebook, you will compile the visualizations from the previous analysis into functions that can be used for a Panel dashboard."
   ],
   "metadata": {}
  },
  {
   "cell_type": "code",
   "execution_count": null,
   "source": [
    "# imports\r\n",
    "import panel as pn\r\n",
    "pn.extension('plotly')\r\n",
    "import plotly.express as px\r\n",
    "import pandas as pd\r\n",
    "import hvplot.pandas\r\n",
    "import matplotlib.pyplot as plt\r\n",
    "import os\r\n",
    "from pathlib import Path\r\n",
    "from dotenv import load_dotenv"
   ],
   "outputs": [],
   "metadata": {}
  },
  {
   "cell_type": "code",
   "execution_count": null,
   "source": [
    "# Read the Mapbox API key\r\n",
    "load_dotenv()\r\n",
    "map_box_api = os.getenv(\"mapbox\")\r\n",
    "px.set_mapbox_access_token(map_box_api)\r\n",
    "print(type(map_box_api))"
   ],
   "outputs": [],
   "metadata": {}
  },
  {
   "cell_type": "markdown",
   "source": [
    "# Import Data"
   ],
   "metadata": {}
  },
  {
   "cell_type": "code",
   "execution_count": null,
   "source": [
    "# Import the necessary CSVs to Pandas DataFrames\r\n",
    "file_path = Path(\"../../week6_pyviz/unit_6_pythonic_monopoly/sfo_neighborhoods_census_data.csv\")\r\n",
    "sfo_data = pd.read_csv(file_path, index_col=\"year\")\r\n",
    "\r\n",
    "file_path = Path(\"../../week6_pyviz/unit_6_pythonic_monopoly/neighborhoods_coordinates.csv\")\r\n",
    "df_neighborhood_locations = pd.read_csv(file_path)\r\n",
    "\r\n",
    "file_path = Path(\"../../week6_pyviz/unit_6_pythonic_monopoly/sfo_data_mean_df.csv\")\r\n",
    "sfo_mean_df = pd.read_csv(file_path, index_col=\"year\")"
   ],
   "outputs": [],
   "metadata": {}
  },
  {
   "cell_type": "markdown",
   "source": [
    "- - -"
   ],
   "metadata": {}
  },
  {
   "cell_type": "markdown",
   "source": [
    "## Panel Visualizations\n",
    "\n",
    "In this section, you will copy the code for each plot type from your analysis notebook and place it into separate functions that Panel can use to create panes for the dashboard. \n",
    "\n",
    "These functions will convert the plot object to a Panel pane.\n",
    "\n",
    "Be sure to include any DataFrame transformation/manipulation code required along with the plotting code.\n",
    "\n",
    "Return a Panel pane object from each function that can be used to build the dashboard.\n",
    "\n",
    "Note: Remove any `.show()` lines from the code. We want to return the plots instead of showing them. The Panel dashboard will then display the plots."
   ],
   "metadata": {}
  },
  {
   "cell_type": "code",
   "execution_count": 26,
   "source": [
    "# Define Panel Visualization Functions\r\n",
    "def housing_units_per_year():\r\n",
    "    \"\"\"Housing Units Per Year.\"\"\"\r\n",
    "    \r\n",
    "    sfo_data_mean = sfo_data.groupby(\"year\")['housing_units'].mean()\r\n",
    "    fig_housing_units = plt.figure() \r\n",
    "    plot_housing_units = sfo_data_mean.plot.bar().set_title(\"Housing Units in San Francisco from 2010 to 2016\")\r\n",
    "    max1 = sfo_data_mean.max()\r\n",
    "    min1 = sfo_data_mean.min()\r\n",
    "    std1 = sfo_data_mean.std()\r\n",
    "    results = sfo_data_mean.plot.bar(ylim=(min1-std1, max1+std1), title=\"Housing Units in San Francisco from 2010 to 2016\")\r\n",
    "    plt.close(fig_housing_units)\r\n",
    "    return pn.pane.Matplotlib(fig_housing_units, tight=True)"
   ],
   "outputs": [],
   "metadata": {}
  },
  {
   "cell_type": "code",
   "execution_count": null,
   "source": [
    "# Define Panel Visualization Functions\r\n",
    "def housing_units_per_year():\r\n",
    "    \"\"\"Housing Units Per Year.\"\"\"\r\n",
    "    \r\n",
    "    sfo_data_mean = sfo_data.groupby(\"year\")['housing_units'].mean()\r\n",
    "    fig_housing_units = plt.figure() \r\n",
    "    plot_housing_units = sfo_data_mean.plot.bar().set_title(\"Housing Units in San Francisco from 2010 to 2016\")\r\n",
    "    max1 = sfo_data_mean.max()\r\n",
    "    min1 = sfo_data_mean.min()\r\n",
    "    std1 = sfo_data_mean.std()\r\n",
    "    results = sfo_data_mean.plot.bar(ylim=(min1-std1, max1+std1), title=\"Housing Units in San Francisco from 2010 to 2016\")\r\n",
    "    plt.close(fig_housing_units)\r\n",
    "    return pn.pane.Matplotlib(fig_housing_units, tight=True)\r\n",
    "\r\n",
    "\r\n",
    "def average_gross_rent():\r\n",
    "    \"\"\"Average Gross Rent in San Francisco Per Year.\"\"\"\r\n",
    "    \r\n",
    "    fig_housing_units = plt.figure() \r\n",
    "    sfo_data_mean = sfo_data.groupby('year')['sale_price_sqr_foot', 'gross_rent'].mean()\r\n",
    "\r\n",
    "    sfo_data_mean = sfo_data[['sale_price_sqr_foot', 'gross_rent']].groupby('year').mean()\r\n",
    "    \r\n",
    "    fig_housing_units = plt.figure()\r\n",
    "    sfo_rent_data_plot = sfo_data_mean['gross_rent'].plot(title=\"Average Rent per Year in San Francisco\")\r\n",
    "    plt.close(fig_housing_units)\r\n",
    "    return pn.pane.Matplotlib(fig_housing_units, tight=True)\r\n",
    "\r\n",
    "\r\n",
    "\r\n",
    "def average_sales_price():\r\n",
    "    \"\"\"Average Sales Price Per Year.\"\"\"\r\n",
    "    \r\n",
    "    fig_housing_units = plt.figure() \r\n",
    "    sfo_data_mean = sfo_data.groupby('year')['sale_price_sqr_foot', 'gross_rent'].mean()\r\n",
    "\r\n",
    "    sfo_data_mean = sfo_data[['sale_price_sqr_foot', 'gross_rent']].groupby('year').mean()\r\n",
    "    sfo_slaes_data_plot = sfo_data_mean['sale_price_sqr_foot'].plot(title=\"Average Sale Price per Square Foot in San Francisco\")\r\n",
    "    plt.close(fig_housing_units)\r\n",
    "    return pn.pane.Matplotlib(fig_housing_units, tight=True)\r\n",
    "\r\n",
    "\r\n",
    "\r\n",
    "def average_price_by_neighborhood():\r\n",
    "    \"\"\"Average Prices by Neighborhood.\"\"\"\r\n",
    "    \r\n",
    "    average_price_by_neighborhood = sfo_data.groupby([\"year\", \"neighborhood\"]).mean()\r\n",
    "    return average_price_by_neighborhood.hvplot.line(\"year\", \"sale_price_sqr_foot\", groupby=\"neighborhood\")\r\n",
    "\r\n",
    "\r\n",
    "\r\n",
    "def top_most_expensive_neighborhoods():\r\n",
    "    \"\"\"Top 10 Most Expensive Neighborhoods.\"\"\"\r\n",
    "\r\n",
    "    fig_housing_units = plt.figure() \r\n",
    "    neighborhood_prices = sfo_data.groupby(['neighborhood']).mean()\r\n",
    "    top_ten_expensive = neighborhood_prices.sort_values(by='sale_price_sqr_foot', ascending = False).head(10)\r\n",
    "    top_ten_expensive.reset_index(inplace=True)\r\n",
    "    top_ten =  top_ten_expensive.plot.bar(\"neighborhood\", \"sale_price_sqr_foot\")\r\n",
    "    plt.close(fig_housing_units)\r\n",
    "    return pn.pane.Matplotlib(fig_housing_units, tight=True)\r\n",
    "\r\n",
    "\r\n",
    "def most_expensive_neighborhoods_rent_sales():\r\n",
    "    \"\"\"Comparison of Rent and Sales Prices of Most Expensive Neighborhoods.\"\"\"  \r\n",
    "\r\n",
    "    fig_housing_units = plt.figure() \r\n",
    "    neighborhood_prices = sfo_data.groupby(['neighborhood', 'gross_rent']).mean()\r\n",
    "    most_expensive_neighborhoods_rent_sales = neighborhood_prices.sort_values(by='sale_price_sqr_foot', ascending = False).head(10)\r\n",
    "\r\n",
    "    plt.close(fig_housing_units)\r\n",
    "    return pn.pane.Matplotlib(fig_housing_units, tight=True)\r\n",
    "\r\n",
    "    \r\n",
    "    \r\n",
    "def parallel_coordinates():\r\n",
    "    \"\"\"Parallel Coordinates Plot.\"\"\"\r\n",
    "\r\n",
    "    neighborhood_prices = sfo_data.groupby(['neighborhood']).mean()\r\n",
    "    top_ten_expensive = neighborhood_prices.sort_values(by='sale_price_sqr_foot', ascending = False).head(10)\r\n",
    "    top_ten_expensive.reset_index(inplace=True)\r\n",
    "    parallel = px.parallel_coordinates(top_ten_expensive,color=\"sale_price_sqr_foot\")\r\n",
    "    return parallel\r\n",
    "\r\n",
    "\r\n",
    "\r\n",
    "def parallel_categories():\r\n",
    "    \"\"\"Parallel Categories Plot.\"\"\"\r\n",
    "    \r\n",
    "    # YOUR CODE HERE!\r\n",
    "\r\n",
    "\r\n",
    "\r\n",
    "def neighborhood_map():\r\n",
    "    \"\"\"Neighborhood Map.\"\"\"\r\n",
    "\r\n",
    "    px.set_mapbox_access_token(map_box_api)\r\n",
    "    neighborhood_prices = sfo_data.groupby(['neighborhood']).mean()\r\n",
    "    neighborhood_prices = neighborhood_prices.reset_index()\r\n",
    "    neighborhood_prices = neighborhood_prices.rename(columns = {\"neighborhood\": \"Neighborhood\"}) \r\n",
    "    df_join = pd.merge (neighborhood_prices,df_neighborhood_locations, on = \"Neighborhood\")\r\n",
    "    scatter = px.scatter_mapbox(df_join, lat =\"Lat\", lon =\"Lon\", color = \"gross_rent\", size = \"sale_price_sqr_foot\",zoom=11, size_max = 16)\r\n",
    "    plotly_panel = pn.pane.Plotly(scatter)\r\n",
    "    plotly_panel._updates = True\r\n",
    "    return plotly_panel\r\n",
    "\r\n",
    "\r\n",
    "def sunburst():\r\n",
    "    \"\"\"Sunburst Plot.\"\"\"\r\n",
    "    \r\n",
    "   ## df=px.data.gapminder().query(\"year ==\")\r\n",
    "    #fig =px.sunburst(df, path=[\"\",\"\"]), values=\"pop\",\r\n",
    "               # color =\"green\", hover_data=[\"iso_alpha\"])\r\n",
    "    #fig.show()            \r\n"
   ],
   "outputs": [],
   "metadata": {}
  },
  {
   "cell_type": "markdown",
   "source": [
    "## Panel Dashboard\n",
    "\n",
    "In this section, you will combine all of the plots into a single dashboard view using Panel. Be creative with your dashboard design!"
   ],
   "metadata": {}
  },
  {
   "cell_type": "code",
   "execution_count": null,
   "source": [
    "# Create a Title for the Dashboard\r\n",
    "# YOUR CODE HERE!\r\n",
    "\r\n",
    "\r\n",
    "# Create a tab layout for the dashboard\r\n",
    "# YOUR CODE HERE!\r\n",
    "\r\n",
    "\r\n",
    "# Create the dashboard\r\n",
    "# YOUR CODE HERE!"
   ],
   "outputs": [],
   "metadata": {}
  },
  {
   "cell_type": "markdown",
   "source": [
    "## Serve the Panel Dashboard"
   ],
   "metadata": {}
  },
  {
   "cell_type": "code",
   "execution_count": null,
   "source": [
    "# Serve the# dashboard\r\n",
    "# YOUR CODE HERE!"
   ],
   "outputs": [],
   "metadata": {}
  },
  {
   "cell_type": "markdown",
   "source": [
    "# Debugging\n",
    "\n",
    "Note: Some of the Plotly express plots may not render in the notebook through the panel functions.\n",
    "\n",
    "However, you can test each plot by uncommenting the following code"
   ],
   "metadata": {}
  },
  {
   "cell_type": "code",
   "execution_count": null,
   "source": [
    "# housing_units_per_year()"
   ],
   "outputs": [],
   "metadata": {}
  },
  {
   "cell_type": "code",
   "execution_count": null,
   "source": [
    "# average_gross_rent()"
   ],
   "outputs": [],
   "metadata": {}
  },
  {
   "cell_type": "code",
   "execution_count": null,
   "source": [
    "# average_sales_price()"
   ],
   "outputs": [],
   "metadata": {}
  },
  {
   "cell_type": "code",
   "execution_count": null,
   "source": [
    "# average_price_by_neighborhood()"
   ],
   "outputs": [],
   "metadata": {}
  },
  {
   "cell_type": "code",
   "execution_count": null,
   "source": [
    "# top_most_expensive_neighborhoods()"
   ],
   "outputs": [],
   "metadata": {}
  },
  {
   "cell_type": "code",
   "execution_count": null,
   "source": [
    "# most_expensive_neighborhoods_rent_sales()"
   ],
   "outputs": [],
   "metadata": {}
  },
  {
   "cell_type": "code",
   "execution_count": null,
   "source": [
    "# neighborhood_map().show()"
   ],
   "outputs": [],
   "metadata": {}
  },
  {
   "cell_type": "code",
   "execution_count": null,
   "source": [
    "# parallel_categories()"
   ],
   "outputs": [],
   "metadata": {}
  },
  {
   "cell_type": "code",
   "execution_count": null,
   "source": [
    "# parallel_coordinates()"
   ],
   "outputs": [],
   "metadata": {}
  },
  {
   "cell_type": "code",
   "execution_count": null,
   "source": [
    "# sunburst()\r\n",
    "fig.show()"
   ],
   "outputs": [],
   "metadata": {}
  },
  {
   "cell_type": "code",
   "execution_count": null,
   "source": [],
   "outputs": [],
   "metadata": {}
  }
 ],
 "metadata": {
  "file_extension": ".py",
  "interpreter": {
   "hash": "67e013bfd48f15f8a996624d3c20cb2a72477efcfdad0ec5eee23742e6997aaa"
  },
  "kernelspec": {
   "name": "python3",
   "display_name": "Python 3.8.8 64-bit ('base': conda)"
  },
  "language_info": {
   "codemirror_mode": {
    "name": "ipython",
    "version": 3
   },
   "file_extension": ".py",
   "mimetype": "text/x-python",
   "name": "python",
   "nbconvert_exporter": "python",
   "pygments_lexer": "ipython3",
   "version": "3.8.8"
  },
  "mimetype": "text/x-python",
  "name": "python",
  "npconvert_exporter": "python",
  "pygments_lexer": "ipython3",
  "version": 3
 },
 "nbformat": 4,
 "nbformat_minor": 4
}